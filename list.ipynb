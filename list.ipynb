{
 "cells": [
  {
   "cell_type": "code",
   "execution_count": 4,
   "id": "5d35d37e-468c-468a-b8c5-b31fcaaf7ed3",
   "metadata": {},
   "outputs": [],
   "source": [
    "mylist = ['A','B','C']"
   ]
  },
  {
   "cell_type": "code",
   "execution_count": 6,
   "id": "06a9f1dc-9dfa-469c-b75a-68c9ca3b8b46",
   "metadata": {},
   "outputs": [
    {
     "data": {
      "text/html": [
       "<div>\n",
       "<style scoped>\n",
       "    .dataframe tbody tr th:only-of-type {\n",
       "        vertical-align: middle;\n",
       "    }\n",
       "\n",
       "    .dataframe tbody tr th {\n",
       "        vertical-align: top;\n",
       "    }\n",
       "\n",
       "    .dataframe thead th {\n",
       "        text-align: right;\n",
       "    }\n",
       "</style>\n",
       "<table border=\"1\" class=\"dataframe\">\n",
       "  <thead>\n",
       "    <tr style=\"text-align: right;\">\n",
       "      <th></th>\n",
       "      <th>Column_1</th>\n",
       "      <th>Column_2</th>\n",
       "      <th>Column_3</th>\n",
       "      <th>Column_4</th>\n",
       "      <th>Column_5</th>\n",
       "    </tr>\n",
       "  </thead>\n",
       "  <tbody>\n",
       "    <tr>\n",
       "      <th>0</th>\n",
       "      <td>0.548814</td>\n",
       "      <td>0.715189</td>\n",
       "      <td>0.602763</td>\n",
       "      <td>0.544883</td>\n",
       "      <td>0.423655</td>\n",
       "    </tr>\n",
       "    <tr>\n",
       "      <th>1</th>\n",
       "      <td>0.645894</td>\n",
       "      <td>0.437587</td>\n",
       "      <td>0.891773</td>\n",
       "      <td>0.963663</td>\n",
       "      <td>0.383442</td>\n",
       "    </tr>\n",
       "    <tr>\n",
       "      <th>2</th>\n",
       "      <td>0.791725</td>\n",
       "      <td>0.528895</td>\n",
       "      <td>0.568045</td>\n",
       "      <td>0.925597</td>\n",
       "      <td>0.071036</td>\n",
       "    </tr>\n",
       "    <tr>\n",
       "      <th>3</th>\n",
       "      <td>0.087129</td>\n",
       "      <td>0.020218</td>\n",
       "      <td>0.832620</td>\n",
       "      <td>0.778157</td>\n",
       "      <td>0.870012</td>\n",
       "    </tr>\n",
       "    <tr>\n",
       "      <th>4</th>\n",
       "      <td>0.978618</td>\n",
       "      <td>0.799159</td>\n",
       "      <td>0.461479</td>\n",
       "      <td>0.780529</td>\n",
       "      <td>0.118274</td>\n",
       "    </tr>\n",
       "    <tr>\n",
       "      <th>5</th>\n",
       "      <td>0.639921</td>\n",
       "      <td>0.143353</td>\n",
       "      <td>0.944669</td>\n",
       "      <td>0.521848</td>\n",
       "      <td>0.414662</td>\n",
       "    </tr>\n",
       "    <tr>\n",
       "      <th>6</th>\n",
       "      <td>0.264556</td>\n",
       "      <td>0.774234</td>\n",
       "      <td>0.456150</td>\n",
       "      <td>0.568434</td>\n",
       "      <td>0.018790</td>\n",
       "    </tr>\n",
       "    <tr>\n",
       "      <th>7</th>\n",
       "      <td>0.617635</td>\n",
       "      <td>0.612096</td>\n",
       "      <td>0.616934</td>\n",
       "      <td>0.943748</td>\n",
       "      <td>0.681820</td>\n",
       "    </tr>\n",
       "    <tr>\n",
       "      <th>8</th>\n",
       "      <td>0.359508</td>\n",
       "      <td>0.437032</td>\n",
       "      <td>0.697631</td>\n",
       "      <td>0.060225</td>\n",
       "      <td>0.666767</td>\n",
       "    </tr>\n",
       "    <tr>\n",
       "      <th>9</th>\n",
       "      <td>0.670638</td>\n",
       "      <td>0.210383</td>\n",
       "      <td>0.128926</td>\n",
       "      <td>0.315428</td>\n",
       "      <td>0.363711</td>\n",
       "    </tr>\n",
       "  </tbody>\n",
       "</table>\n",
       "</div>"
      ],
      "text/plain": [
       "   Column_1  Column_2  Column_3  Column_4  Column_5\n",
       "0  0.548814  0.715189  0.602763  0.544883  0.423655\n",
       "1  0.645894  0.437587  0.891773  0.963663  0.383442\n",
       "2  0.791725  0.528895  0.568045  0.925597  0.071036\n",
       "3  0.087129  0.020218  0.832620  0.778157  0.870012\n",
       "4  0.978618  0.799159  0.461479  0.780529  0.118274\n",
       "5  0.639921  0.143353  0.944669  0.521848  0.414662\n",
       "6  0.264556  0.774234  0.456150  0.568434  0.018790\n",
       "7  0.617635  0.612096  0.616934  0.943748  0.681820\n",
       "8  0.359508  0.437032  0.697631  0.060225  0.666767\n",
       "9  0.670638  0.210383  0.128926  0.315428  0.363711"
      ]
     },
     "execution_count": 6,
     "metadata": {},
     "output_type": "execute_result"
    }
   ],
   "source": [
    "import pandas as pd\n",
    "import numpy as np\n",
    "\n",
    "# Set the random seed for reproducibility\n",
    "np.random.seed(0)\n",
    "\n",
    "# Create a DataFrame with random data\n",
    "num_rows = 10\n",
    "num_columns = 5\n",
    "random_data = np.random.rand(num_rows, num_columns)\n",
    "df = pd.DataFrame(random_data, columns=[f'Column_{i+1}' for i in range(num_columns)])\n",
    "\n",
    "# Display the DataFrame\n",
    "df"
   ]
  },
  {
   "cell_type": "code",
   "execution_count": 8,
   "id": "3b69303a-e642-4c12-9a4e-87ccfe1dc0f9",
   "metadata": {},
   "outputs": [
    {
     "name": "stdout",
     "output_type": "stream",
     "text": [
      "0\n",
      "1\n",
      "2\n",
      "3\n",
      "4\n",
      "5\n",
      "6\n",
      "7\n",
      "8\n",
      "9\n"
     ]
    }
   ],
   "source": [
    "for seq in range(10):\n",
    "    print(seq)"
   ]
  },
  {
   "cell_type": "code",
   "execution_count": 10,
   "id": "c017f9a8-0fcc-4fb8-92cc-3a0a3df9a6d2",
   "metadata": {},
   "outputs": [],
   "source": [
    "mylist.append('D')"
   ]
  },
  {
   "cell_type": "code",
   "execution_count": 12,
   "id": "e7790eaa-b913-4071-91f1-dda65a6b08dc",
   "metadata": {},
   "outputs": [
    {
     "data": {
      "text/plain": [
       "['A', 'B', 'C', 'D']"
      ]
     },
     "execution_count": 12,
     "metadata": {},
     "output_type": "execute_result"
    }
   ],
   "source": [
    "mylist"
   ]
  },
  {
   "cell_type": "code",
   "execution_count": 14,
   "id": "1d4de9d4-039b-4500-bd27-911539094f50",
   "metadata": {},
   "outputs": [],
   "source": [
    "del mylist[3]"
   ]
  },
  {
   "cell_type": "code",
   "execution_count": 16,
   "id": "7d55e60d-9644-465a-81e5-99b19a008bbf",
   "metadata": {},
   "outputs": [
    {
     "data": {
      "text/plain": [
       "['A', 'B', 'C']"
      ]
     },
     "execution_count": 16,
     "metadata": {},
     "output_type": "execute_result"
    }
   ],
   "source": [
    "mylist"
   ]
  },
  {
   "cell_type": "code",
   "execution_count": 18,
   "id": "40525ef3-0f4f-413f-9725-d3c7aeb66cd7",
   "metadata": {},
   "outputs": [],
   "source": [
    "mylist.append('D')"
   ]
  },
  {
   "cell_type": "code",
   "execution_count": 23,
   "id": "8cc6fc03-0e5c-457a-9a5f-2971a3dd3f82",
   "metadata": {},
   "outputs": [
    {
     "name": "stdout",
     "output_type": "stream",
     "text": [
      "False\n"
     ]
    }
   ],
   "source": [
    "print(not True)"
   ]
  },
  {
   "cell_type": "raw",
   "id": "f7d38b42-3abf-4683-a098-d23d994fd7da",
   "metadata": {},
   "source": [
    "print(True)"
   ]
  },
  {
   "cell_type": "code",
   "execution_count": 25,
   "id": "bbdde3bf-9528-490d-8fc0-5c2ebdf5ef03",
   "metadata": {},
   "outputs": [
    {
     "name": "stdout",
     "output_type": "stream",
     "text": [
      "True\n"
     ]
    }
   ],
   "source": [
    "print(True)"
   ]
  },
  {
   "cell_type": "code",
   "execution_count": 27,
   "id": "91b073d3-b00d-4d9d-8368-5fc56d4e5df0",
   "metadata": {},
   "outputs": [
    {
     "name": "stdout",
     "output_type": "stream",
     "text": [
      "False\n"
     ]
    }
   ],
   "source": [
    "print(False)"
   ]
  },
  {
   "cell_type": "code",
   "execution_count": 31,
   "id": "8d070bce-9fad-46e2-9e30-71b566dff309",
   "metadata": {},
   "outputs": [
    {
     "name": "stdout",
     "output_type": "stream",
     "text": [
      "Staff\n"
     ]
    }
   ],
   "source": [
    "name = \"Shan\"\n",
    "if name == \"Qasim\":\n",
    "    print(\"Teacher\")\n",
    "elif name == \"Shan\":\n",
    "    print(\"Staff\")\n",
    "else:\n",
    "    print(\"student\")"
   ]
  },
  {
   "cell_type": "code",
   "execution_count": 33,
   "id": "a9b64cc3-662a-4a53-984e-73655208bd62",
   "metadata": {},
   "outputs": [
    {
     "name": "stdin",
     "output_type": "stream",
     "text": [
      "Enter Your Name : Amjad\n"
     ]
    },
    {
     "name": "stdout",
     "output_type": "stream",
     "text": [
      "Student\n"
     ]
    }
   ],
   "source": [
    "name = input(\"Enter Your Name :\")\n",
    "if name == \"Qasim\":\n",
    "    print(\"Teacher\")\n",
    "elif name == \"Shan\":\n",
    "    print(\"Staff\")\n",
    "else:\n",
    "    print(\"Student\")\n"
   ]
  },
  {
   "cell_type": "code",
   "execution_count": 47,
   "id": "6c7a2993-6197-4ce9-b966-5ab04e95b0dd",
   "metadata": {},
   "outputs": [
    {
     "name": "stdin",
     "output_type": "stream",
     "text": [
      "Enter your Age :  17\n"
     ]
    },
    {
     "name": "stdout",
     "output_type": "stream",
     "text": [
      "Nope , your ' re not eligible \n"
     ]
    }
   ],
   "source": [
    "age = int(input(\"Enter your Age : \"))\n",
    "\n",
    "if age >= 18:\n",
    "    print(\"Yes, your are eligible \")\n",
    "else:\n",
    "    print(\"Nope, your're not eligible \")\n"
   ]
  },
  {
   "cell_type": "code",
   "execution_count": 43,
   "id": "2cb289f7-c3f7-49b3-a110-c3a0c57ee7d9",
   "metadata": {},
   "outputs": [
    {
     "name": "stdin",
     "output_type": "stream",
     "text": [
      "Enter your age:  19\n"
     ]
    },
    {
     "name": "stdout",
     "output_type": "stream",
     "text": [
      "Yes, You're eligible\n"
     ]
    }
   ],
   "source": [
    "age = int(input(\"Enter your age: \"))\n",
    "\n",
    "if age >=18:\n",
    "    print(\"Yes, You're eligible\")\n",
    "else:\n",
    "    print(\"Nope, You're not eligible\")"
   ]
  },
  {
   "cell_type": "code",
   "execution_count": 51,
   "id": "7efff7d7-25b2-4e2c-af9f-0675a13f3281",
   "metadata": {},
   "outputs": [
    {
     "name": "stdin",
     "output_type": "stream",
     "text": [
      "Enter Ant number that is divisible by 5 : 9\n"
     ]
    },
    {
     "name": "stdout",
     "output_type": "stream",
     "text": [
      "bye\n"
     ]
    }
   ],
   "source": [
    "number = int(input(\"Enter Ant number that is divisible by 5 :\"))\n",
    "if number % 5 == 0:\n",
    "    print(\"hello \")\n",
    "else:\n",
    "    print(\"bye\")"
   ]
  },
  {
   "cell_type": "code",
   "execution_count": 55,
   "id": "db77fb3e-af10-42ed-94a9-de175359fdfb",
   "metadata": {},
   "outputs": [],
   "source": [
    "## A school has following rules for grading system:\n",
    "\n",
    "##Below 25 - F\n",
    "##25 to 45 - E\n",
    "##45 to 50 - D\n",
    "##50 to 60 - C\n",
    "##60 to 80 - B\n",
    "##Above 80 - A\n",
    "##Ask user to enter marks and print the corresponding grade.\n"
   ]
  },
  {
   "cell_type": "code",
   "execution_count": 63,
   "id": "4bc16599-fb15-43f0-9875-b85695d38980",
   "metadata": {},
   "outputs": [
    {
     "name": "stdin",
     "output_type": "stream",
     "text": [
      "Enter your marks:  81\n"
     ]
    },
    {
     "name": "stdout",
     "output_type": "stream",
     "text": [
      "Grade: A\n"
     ]
    }
   ],
   "source": [
    "marks = int(input(\"Enter your marks: \"))\n",
    "\n",
    "if marks > 80 and marks <= 100:\n",
    "    print(\"Grade: A\")\n",
    "elif marks >= 60 and marks <= 80:\n",
    "    print(\"Grade: B\")\n",
    "elif marks >= 50 and marks < 60:\n",
    "    print(\"Grade: C\")\n",
    "elif marks >= 45 and marks < 50:\n",
    "    print(\"Grade: D\")\n",
    "elif marks >= 25 and marks < 45:\n",
    "    print(\"Grade: E\")\n",
    "elif marks <25 and marks >= 0:\n",
    "    print(\"Grade: F\")\n",
    "else:\n",
    "    print(\"Invalid Input\")"
   ]
  },
  {
   "cell_type": "code",
   "execution_count": 65,
   "id": "b169324d-bd85-487a-93c7-2a2f5d237fd7",
   "metadata": {},
   "outputs": [],
   "source": [
    "cities = [\"Atlanta\", \"Baltimore\", \"Chicago\", \"Denver\", \"Los Angeles\"]"
   ]
  },
  {
   "cell_type": "code",
   "execution_count": 67,
   "id": "b4bbbba5-9d63-438c-9419-15a852011854",
   "metadata": {},
   "outputs": [],
   "source": [
    "#     -5        -4           -3         -2          -1 ( right to left)\n",
    "# ['Atlanta', 'Baltimore', 'Chicago', 'Denver', 'Los Angeles']\n",
    "#    0           1             2         3           4 ( left to right  )"
   ]
  },
  {
   "cell_type": "code",
   "execution_count": 69,
   "id": "a8634177-bfb2-4cae-9d42-7ffb989fc676",
   "metadata": {},
   "outputs": [
    {
     "data": {
      "text/plain": [
       "'Denver'"
      ]
     },
     "execution_count": 69,
     "metadata": {},
     "output_type": "execute_result"
    }
   ],
   "source": [
    "cities[3]"
   ]
  },
  {
   "cell_type": "code",
   "execution_count": 71,
   "id": "0e249188-09a6-4f04-9920-270c242b5455",
   "metadata": {},
   "outputs": [
    {
     "data": {
      "text/plain": [
       "['Chicago', 'Denver']"
      ]
     },
     "execution_count": 71,
     "metadata": {},
     "output_type": "execute_result"
    }
   ],
   "source": [
    "cities[2:4]"
   ]
  },
  {
   "cell_type": "code",
   "execution_count": 73,
   "id": "5dc588b8-a065-4dc9-b226-19beeae9e066",
   "metadata": {},
   "outputs": [
    {
     "data": {
      "text/plain": [
       "['Atlanta', 'Baltimore']"
      ]
     },
     "execution_count": 73,
     "metadata": {},
     "output_type": "execute_result"
    }
   ],
   "source": [
    "cities[0:2]"
   ]
  },
  {
   "cell_type": "code",
   "execution_count": 75,
   "id": "624dc8f2-50b5-4b64-8f99-174656c187b7",
   "metadata": {},
   "outputs": [],
   "source": [
    "cities.append(\"Atlanta\")"
   ]
  },
  {
   "cell_type": "code",
   "execution_count": 77,
   "id": "064ca536-2df0-435c-8b18-b227378e4df2",
   "metadata": {},
   "outputs": [
    {
     "data": {
      "text/plain": [
       "['Atlanta', 'Baltimore', 'Chicago', 'Denver', 'Los Angeles', 'Atlanta']"
      ]
     },
     "execution_count": 77,
     "metadata": {},
     "output_type": "execute_result"
    }
   ],
   "source": [
    "cities"
   ]
  },
  {
   "cell_type": "code",
   "execution_count": 81,
   "id": "411e61a2-20d4-41c7-b5a6-3f83da903436",
   "metadata": {},
   "outputs": [
    {
     "name": "stdout",
     "output_type": "stream",
     "text": [
      "['Atlanta', 'Baltimore', 'Chicago', 'Denver', 'Los Angeles', 'Atlanta']\n"
     ]
    }
   ],
   "source": [
    "print(cities)\n",
    "      "
   ]
  },
  {
   "cell_type": "code",
   "execution_count": 83,
   "id": "faa62b2a-7a5f-4796-b552-a690c588d12b",
   "metadata": {},
   "outputs": [
    {
     "data": {
      "text/plain": [
       "['Atlanta', 'Baltimore', 'Chicago', 'Denver', 'Los Angeles', 'Atlanta']"
      ]
     },
     "execution_count": 83,
     "metadata": {},
     "output_type": "execute_result"
    }
   ],
   "source": [
    "cities"
   ]
  },
  {
   "cell_type": "code",
   "execution_count": 85,
   "id": "eb7672c2-0853-4cfe-8d6e-8e76e3177ffe",
   "metadata": {},
   "outputs": [
    {
     "ename": "TypeError",
     "evalue": "can only concatenate list (not \"str\") to list",
     "output_type": "error",
     "traceback": [
      "\u001b[1;31m---------------------------------------------------------------------------\u001b[0m",
      "\u001b[1;31mTypeError\u001b[0m                                 Traceback (most recent call last)",
      "Cell \u001b[1;32mIn[85], line 1\u001b[0m\n\u001b[1;32m----> 1\u001b[0m cities \u001b[38;5;241m=\u001b[39m cities \u001b[38;5;241m+\u001b[39m \u001b[38;5;124m\"\u001b[39m\u001b[38;5;124mkarachi\u001b[39m\u001b[38;5;124m\"\u001b[39m\n",
      "\u001b[1;31mTypeError\u001b[0m: can only concatenate list (not \"str\") to list"
     ]
    }
   ],
   "source": [
    "cities = cities + \"karachi\""
   ]
  },
  {
   "cell_type": "code",
   "execution_count": 93,
   "id": "2dd7a158-7cfb-45c6-975f-33025e3f0e1f",
   "metadata": {},
   "outputs": [],
   "source": [
    "city = [\"karachi\"]"
   ]
  },
  {
   "cell_type": "code",
   "execution_count": 95,
   "id": "324d8100-cb12-4e6a-99c8-8d04ea929ccc",
   "metadata": {},
   "outputs": [],
   "source": [
    "cities = cities + city"
   ]
  },
  {
   "cell_type": "code",
   "execution_count": 97,
   "id": "35599ec0-6a01-4061-8938-b14571740c3d",
   "metadata": {},
   "outputs": [
    {
     "data": {
      "text/plain": [
       "['Atlanta',\n",
       " 'Baltimore',\n",
       " 'Chicago',\n",
       " 'Denver',\n",
       " 'Los Angeles',\n",
       " 'Atlanta',\n",
       " 'karachi']"
      ]
     },
     "execution_count": 97,
     "metadata": {},
     "output_type": "execute_result"
    }
   ],
   "source": [
    "cities"
   ]
  },
  {
   "cell_type": "code",
   "execution_count": 99,
   "id": "1ab1a5fc-b71a-44f7-9a36-be5593a2bf0d",
   "metadata": {},
   "outputs": [
    {
     "data": {
      "text/plain": [
       "'karachi'"
      ]
     },
     "execution_count": 99,
     "metadata": {},
     "output_type": "execute_result"
    }
   ],
   "source": [
    "cities.pop()"
   ]
  },
  {
   "cell_type": "code",
   "execution_count": 101,
   "id": "aa76cd1a-1f7d-4382-a201-5ae3a7d5820d",
   "metadata": {},
   "outputs": [
    {
     "data": {
      "text/plain": [
       "['Atlanta', 'Baltimore', 'Chicago', 'Denver', 'Los Angeles', 'Atlanta']"
      ]
     },
     "execution_count": 101,
     "metadata": {},
     "output_type": "execute_result"
    }
   ],
   "source": [
    "cities"
   ]
  },
  {
   "cell_type": "code",
   "execution_count": 105,
   "id": "25815006-4a4f-4631-a792-885da571343f",
   "metadata": {},
   "outputs": [
    {
     "data": {
      "text/plain": [
       "0"
      ]
     },
     "execution_count": 105,
     "metadata": {},
     "output_type": "execute_result"
    }
   ],
   "source": [
    "cities.count(\"karachi\")"
   ]
  },
  {
   "cell_type": "code",
   "execution_count": 107,
   "id": "10e9fd3a-94f7-4368-8a42-7a147cd770e0",
   "metadata": {},
   "outputs": [
    {
     "data": {
      "text/plain": [
       "2"
      ]
     },
     "execution_count": 107,
     "metadata": {},
     "output_type": "execute_result"
    }
   ],
   "source": [
    "cities.count(\"Atlanta\")"
   ]
  },
  {
   "cell_type": "code",
   "execution_count": null,
   "id": "9467df13-ebea-415f-a355-86871edadf22",
   "metadata": {},
   "outputs": [],
   "source": []
  }
 ],
 "metadata": {
  "kernelspec": {
   "display_name": "Python 3 (ipykernel)",
   "language": "python",
   "name": "python3"
  },
  "language_info": {
   "codemirror_mode": {
    "name": "ipython",
    "version": 3
   },
   "file_extension": ".py",
   "mimetype": "text/x-python",
   "name": "python",
   "nbconvert_exporter": "python",
   "pygments_lexer": "ipython3",
   "version": "3.11.5"
  }
 },
 "nbformat": 4,
 "nbformat_minor": 5
}
